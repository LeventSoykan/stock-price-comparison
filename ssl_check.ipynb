{
 "cells": [
  {
   "cell_type": "code",
   "execution_count": 11,
   "id": "e4bbba35",
   "metadata": {},
   "outputs": [],
   "source": [
    "import requests\n",
    "import pandas as pd\n",
    "import json\n",
    "import numpy as np\n",
    "import time\n",
    "from sqlalchemy import create_engine\n",
    "import os\n",
    "\n",
    "POSTGRES_PASSWORD = os.environ.get('POSTGRES_PASSWORD')\n",
    "LINODE_SERVER = os.environ.get('LINODE_SERVER')\n",
    "AV_API_KEY = os.environ.get('ALPHA_VANTAGE')"
   ]
  },
  {
   "cell_type": "code",
   "execution_count": 19,
   "id": "011fa1d0",
   "metadata": {},
   "outputs": [],
   "source": [
    "#Create sql engine with sqlalchemy\n",
    "engine = create_engine(f'postgresql://postgres:{POSTGRES_PASSWORD}@{LINODE_SERVER}:5432/stockdb?sslmode=require')"
   ]
  },
  {
   "cell_type": "code",
   "execution_count": 20,
   "id": "1201ed4a",
   "metadata": {},
   "outputs": [
    {
     "name": "stderr",
     "output_type": "stream",
     "text": [
      "C:\\Users\\dell\\AppData\\Local\\Temp\\ipykernel_11844\\4162273999.py:1: SADeprecationWarning: The Engine.table_names() method is deprecated and will be removed in a future release.  Please refer to Inspector.get_table_names(). (deprecated since: 1.4)\n",
      "  engine.table_names()\n"
     ]
    },
    {
     "data": {
      "text/plain": [
       "['stock_info',\n",
       " 'income_statement',\n",
       " 'balance_sheet',\n",
       " 'stock_prices',\n",
       " 'index_prices']"
      ]
     },
     "execution_count": 20,
     "metadata": {},
     "output_type": "execute_result"
    }
   ],
   "source": [
    "engine.table_names()"
   ]
  },
  {
   "cell_type": "code",
   "execution_count": null,
   "id": "55b2a59f",
   "metadata": {},
   "outputs": [],
   "source": []
  }
 ],
 "metadata": {
  "kernelspec": {
   "display_name": "Python 3 (ipykernel)",
   "language": "python",
   "name": "python3"
  },
  "language_info": {
   "codemirror_mode": {
    "name": "ipython",
    "version": 3
   },
   "file_extension": ".py",
   "mimetype": "text/x-python",
   "name": "python",
   "nbconvert_exporter": "python",
   "pygments_lexer": "ipython3",
   "version": "3.11.1"
  }
 },
 "nbformat": 4,
 "nbformat_minor": 5
}
